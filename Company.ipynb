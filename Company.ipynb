{
  "cells": [
    {
      "cell_type": "markdown",
      "metadata": {
        "id": "view-in-github",
        "colab_type": "text"
      },
      "source": [
        "<a href=\"https://colab.research.google.com/github/jtoyhh/IBK_IT/blob/main/Company.ipynb\" target=\"_parent\"><img src=\"https://colab.research.google.com/assets/colab-badge.svg\" alt=\"Open In Colab\"/></a>"
      ]
    },
    {
      "cell_type": "code",
      "execution_count": null,
      "metadata": {
        "id": "aotiir750Ydo"
      },
      "outputs": [],
      "source": [
        "import pandas as pd"
      ]
    },
    {
      "cell_type": "code",
      "execution_count": null,
      "metadata": {
        "id": "aBaN7xun0Yds"
      },
      "outputs": [],
      "source": [
        "data = pd.read_excel('C:/Django/Data_Processing/Data/IBK프로젝트_중소기업 정책별 기업리스트.xlsx', index_col=0)"
      ]
    },
    {
      "cell_type": "code",
      "execution_count": null,
      "metadata": {
        "id": "VMHPQlQt0Ydt"
      },
      "outputs": [],
      "source": [
        "data = data.rename(columns=data.iloc[0]).drop(data.index[0])"
      ]
    },
    {
      "cell_type": "code",
      "execution_count": null,
      "metadata": {
        "id": "iN3fbIMm0Ydt"
      },
      "outputs": [],
      "source": [
        "data.index = data.index.astype(\"int\")"
      ]
    },
    {
      "cell_type": "code",
      "execution_count": null,
      "metadata": {
        "id": "npX4_aCZ0Ydu",
        "outputId": "84629138-125a-4e15-e345-80fde8d05523"
      },
      "outputs": [
        {
          "data": {
            "text/html": [
              "<div>\n",
              "<style scoped>\n",
              "    .dataframe tbody tr th:only-of-type {\n",
              "        vertical-align: middle;\n",
              "    }\n",
              "\n",
              "    .dataframe tbody tr th {\n",
              "        vertical-align: top;\n",
              "    }\n",
              "\n",
              "    .dataframe thead th {\n",
              "        text-align: right;\n",
              "    }\n",
              "</style>\n",
              "<table border=\"1\" class=\"dataframe\">\n",
              "  <thead>\n",
              "    <tr style=\"text-align: right;\">\n",
              "      <th></th>\n",
              "      <th>기업명</th>\n",
              "      <th>해시태그</th>\n",
              "      <th>정책</th>\n",
              "      <th>정기보너스</th>\n",
              "      <th>인센티브제</th>\n",
              "      <th>스톡옵션</th>\n",
              "      <th>우수사원포상</th>\n",
              "      <th>노타이</th>\n",
              "      <th>자유복장</th>\n",
              "      <th>출퇴근선택시간제</th>\n",
              "      <th>...</th>\n",
              "      <th>도서구입비지원</th>\n",
              "      <th>신입사원교육</th>\n",
              "      <th>직무능력향상교육</th>\n",
              "      <th>리더십강화교육</th>\n",
              "      <th>자기계발비지원</th>\n",
              "      <th>주요사업</th>\n",
              "      <th>산업1</th>\n",
              "      <th>산업2</th>\n",
              "      <th>산업3</th>\n",
              "      <th>산업4</th>\n",
              "    </tr>\n",
              "  </thead>\n",
              "  <tbody>\n",
              "    <tr>\n",
              "      <th>1</th>\n",
              "      <td>천일엔지니어링(주)</td>\n",
              "      <td>금융</td>\n",
              "      <td>매출채권보험</td>\n",
              "      <td>0</td>\n",
              "      <td>0</td>\n",
              "      <td>0</td>\n",
              "      <td>1</td>\n",
              "      <td>0</td>\n",
              "      <td>0</td>\n",
              "      <td>0</td>\n",
              "      <td>...</td>\n",
              "      <td>0</td>\n",
              "      <td>0</td>\n",
              "      <td>0</td>\n",
              "      <td>0</td>\n",
              "      <td>0</td>\n",
              "      <td>자동차용 플라스틱 사출성형 제품 제조</td>\n",
              "      <td>기계</td>\n",
              "      <td>설비</td>\n",
              "      <td>자동차</td>\n",
              "      <td>NaN</td>\n",
              "    </tr>\n",
              "    <tr>\n",
              "      <th>2</th>\n",
              "      <td>(주)에스티엠테크놀로지</td>\n",
              "      <td>금융</td>\n",
              "      <td>매출채권보험</td>\n",
              "      <td>0</td>\n",
              "      <td>1</td>\n",
              "      <td>0</td>\n",
              "      <td>1</td>\n",
              "      <td>1</td>\n",
              "      <td>0</td>\n",
              "      <td>0</td>\n",
              "      <td>...</td>\n",
              "      <td>0</td>\n",
              "      <td>1</td>\n",
              "      <td>0</td>\n",
              "      <td>0</td>\n",
              "      <td>0</td>\n",
              "      <td>반도체관련부품, 전지전자 부품</td>\n",
              "      <td>제조업</td>\n",
              "      <td>NaN</td>\n",
              "      <td>NaN</td>\n",
              "      <td>NaN</td>\n",
              "    </tr>\n",
              "  </tbody>\n",
              "</table>\n",
              "<p>2 rows × 29 columns</p>\n",
              "</div>"
            ],
            "text/plain": [
              "            기업명 해시태그      정책 정기보너스 인센티브제 스톡옵션 우수사원포상 노타이 자유복장 출퇴근선택시간제  ...  \\\n",
              "1    천일엔지니어링(주)   금융  매출채권보험     0     0    0      1   0    0        0  ...   \n",
              "2  (주)에스티엠테크놀로지   금융  매출채권보험     0     1    0      1   1    0        0  ...   \n",
              "\n",
              "  도서구입비지원 신입사원교육 직무능력향상교육 리더십강화교육 자기계발비지원                  주요사업  산업1  산업2  \\\n",
              "1       0      0        0       0       0  자동차용 플라스틱 사출성형 제품 제조   기계   설비   \n",
              "2       0      1        0       0       0      반도체관련부품, 전지전자 부품  제조업  NaN   \n",
              "\n",
              "   산업3  산업4  \n",
              "1  자동차  NaN  \n",
              "2  NaN  NaN  \n",
              "\n",
              "[2 rows x 29 columns]"
            ]
          },
          "execution_count": 10,
          "metadata": {},
          "output_type": "execute_result"
        }
      ],
      "source": [
        "data.head(2)"
      ]
    },
    {
      "cell_type": "code",
      "execution_count": null,
      "metadata": {
        "id": "urX-a1cs0Ydv"
      },
      "outputs": [],
      "source": [
        "import sqlite3"
      ]
    },
    {
      "cell_type": "code",
      "execution_count": null,
      "metadata": {
        "id": "71ODS41D0Ydv",
        "outputId": "949613d9-d3f0-43c4-9b55-061bbe19714b"
      },
      "outputs": [
        {
          "data": {
            "text/plain": [
              "40"
            ]
          },
          "execution_count": 12,
          "metadata": {},
          "output_type": "execute_result"
        }
      ],
      "source": [
        "con = sqlite3.connect(\"C:/Django/Data_Processing/Data/Company.db\")\n",
        "data.to_sql('Company',con)"
      ]
    },
    {
      "cell_type": "code",
      "execution_count": null,
      "metadata": {
        "id": "pkJ5rNrv0Ydw"
      },
      "outputs": [],
      "source": [
        "con.commit()"
      ]
    }
  ],
  "metadata": {
    "kernelspec": {
      "display_name": "Python 3.9.5 ('.venv': venv)",
      "language": "python",
      "name": "python3"
    },
    "language_info": {
      "codemirror_mode": {
        "name": "ipython",
        "version": 3
      },
      "file_extension": ".py",
      "mimetype": "text/x-python",
      "name": "python",
      "nbconvert_exporter": "python",
      "pygments_lexer": "ipython3",
      "version": "3.9.5"
    },
    "orig_nbformat": 4,
    "vscode": {
      "interpreter": {
        "hash": "82d1eeda01cf9e9d6fd54f1b0bb479d1f53e0e5ff393c32f38ba7fea5fece7be"
      }
    },
    "colab": {
      "name": "Company.ipynb",
      "provenance": [],
      "include_colab_link": true
    }
  },
  "nbformat": 4,
  "nbformat_minor": 0
}